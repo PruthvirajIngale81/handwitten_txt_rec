{
 "cells": [
  {
   "cell_type": "code",
   "execution_count": null,
   "metadata": {},
   "outputs": [
    {
     "name": "stdout",
     "output_type": "stream",
     "text": [
      "Model successfully loaded\n",
      " * Serving Flask app \"__main__\" (lazy loading)\n",
      " * Environment: production\n",
      "   WARNING: This is a development server. Do not use it in a production deployment.\n",
      "   Use a production WSGI server instead.\n",
      " * Debug mode: off\n"
     ]
    },
    {
     "name": "stderr",
     "output_type": "stream",
     "text": [
      " * Running on http://127.0.0.1:5000/ (Press CTRL+C to quit)\n",
      "127.0.0.1 - - [11/Jul/2022 21:39:13] \"\u001b[37mGET / HTTP/1.1\u001b[0m\" 200 -\n",
      "127.0.0.1 - - [11/Jul/2022 21:39:21] \"\u001b[37mPOST / HTTP/1.1\u001b[0m\" 200 -\n"
     ]
    },
    {
     "name": "stdout",
     "output_type": "stream",
     "text": [
      "Predicted String: ABC\n"
     ]
    },
    {
     "name": "stderr",
     "output_type": "stream",
     "text": [
      "127.0.0.1 - - [11/Jul/2022 21:39:30] \"\u001b[37mGET / HTTP/1.1\u001b[0m\" 200 -\n",
      "127.0.0.1 - - [11/Jul/2022 21:39:38] \"\u001b[37mPOST / HTTP/1.1\u001b[0m\" 200 -\n"
     ]
    },
    {
     "name": "stdout",
     "output_type": "stream",
     "text": [
      "Predicted String: MANIK\n"
     ]
    }
   ],
   "source": [
    "from flask import Flask, render_template, request\n",
    "from werkzeug.utils import secure_filename\n",
    "import os\n",
    "from model.segment import predict_img\n",
    "\n",
    "app = Flask(__name__)\n",
    "\n",
    "UPLOAD_FILE_FOLDER = 'static/uploads'\n",
    "app.config['UPLOAD_FOLDER'] = UPLOAD_FILE_FOLDER\n",
    "app.config['UPLOAD_EXTENSIONS'] = ['.jpg', '.png', '.jpeg']\n",
    "\n",
    "@app.route('/', methods=['GET', 'POST'])\n",
    "def home():\n",
    "    if request.method == 'POST':\n",
    "        file = request.files['file']\n",
    "        filename = secure_filename(file.filename)\n",
    "        if filename == '':\n",
    "            return render_template('home.html', error='Please select a file')\n",
    "        file_ext = os.path.splitext(filename)[1]\n",
    "        if file_ext not in app.config['UPLOAD_EXTENSIONS']:\n",
    "            return render_template('home.html', error='File type not supported')\n",
    "        filepath = os.path.join(app.config['UPLOAD_FOLDER'], filename)\n",
    "        file.save(filepath)\n",
    "        prediction = predict_img(filepath)\n",
    "        return render_template('result.html', prediction=prediction)\n",
    "    return render_template('home.html')\n",
    "\n",
    "if __name__ == '__main__':\n",
    "    app.run(debug=False)"
   ]
  },
  {
   "cell_type": "code",
   "execution_count": null,
   "metadata": {},
   "outputs": [],
   "source": []
  },
  {
   "cell_type": "code",
   "execution_count": null,
   "metadata": {},
   "outputs": [],
   "source": []
  }
 ],
 "metadata": {
  "kernelspec": {
   "display_name": "Python 3",
   "language": "python",
   "name": "python3"
  },
  "language_info": {
   "codemirror_mode": {
    "name": "ipython",
    "version": 3
   },
   "file_extension": ".py",
   "mimetype": "text/x-python",
   "name": "python",
   "nbconvert_exporter": "python",
   "pygments_lexer": "ipython3",
   "version": "3.8.8"
  },
  "vscode": {
   "interpreter": {
    "hash": "368af2bf47485d6c0bdcfbeec9d05cdcdcbcac336824a5cc0790dd6923a8fd73"
   }
  }
 },
 "nbformat": 4,
 "nbformat_minor": 2
}
