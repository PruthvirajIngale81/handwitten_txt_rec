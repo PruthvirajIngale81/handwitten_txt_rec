{
 "cells": [
  {
   "cell_type": "code",
   "execution_count": 3,
   "metadata": {},
   "outputs": [],
   "source": [
    "import tensorflow as tf\n",
    "\n",
    "import numpy as np\n",
    "\n",
    "from mnist import MNIST\n",
    "\n",
    "#mnist=tf.keras.datasets.mnist\n",
    "#This will load the train and test data\n",
    "#(X_train, y_train),(X_test, y_test) = mnist.load_data()\n",
    "mndata = MNIST('data')\n",
    "X_train, y_train = mndata.load('C:/Users/user/Desktop/Anaconda/handwritten-text-recognition-master/src/gzip/emnist-byclass-train-images-idx3-ubyte',\n",
    "                                 'C:/Users/user/Desktop/Anaconda/handwritten-text-recognition-master/src/gzip/emnist-byclass-train-labels-idx1-ubyte')\n",
    "X_test, y_test = mndata.load('C:/Users/user/Desktop/Anaconda/handwritten-text-recognition-master/src/gzip/emnist-byclass-test-images-idx3-ubyte',\n",
    "                              'C:/Users/user/Desktop/Anaconda/handwritten-text-recognition-master/src/gzip/emnist-byclass-test-labels-idx1-ubyte')\n",
    "\n",
    "# Convert data to numpy arrays and normalize images to the interval [0, 1]\n",
    "X_train = np.array(X_train) / 255.0\n",
    "y_train = np.array(y_train)\n",
    "X_test = np.array(X_test) / 255.0\n",
    "y_test = np.array(y_test)"
   ]
  },
  {
   "cell_type": "markdown",
   "metadata": {},
   "source": [
    "# Getting Data ready for pre-processing"
   ]
  },
  {
   "cell_type": "code",
   "execution_count": 4,
   "metadata": {},
   "outputs": [],
   "source": [
    "#Reshaping all images into 28*28 for pre-processing\n",
    "X_train = X_train.reshape(X_train.shape[0], 28, 28)\n",
    "\n",
    "X_test = X_test.reshape(X_test.shape[0], 28, 28)"
   ]
  },
  {
   "cell_type": "code",
   "execution_count": 5,
   "metadata": {},
   "outputs": [
    {
     "data": {
      "text/plain": [
       "<function matplotlib.pyplot.show(close=None, block=None)>"
      ]
     },
     "execution_count": 5,
     "metadata": {},
     "output_type": "execute_result"
    },
    {
     "data": {
      "image/png": "[encoded data removed]",
      "text/plain": [
       "<Figure size 432x288 with 1 Axes>"
      ]
     },
     "metadata": {
      "needs_background": "light"
     },
     "output_type": "display_data"
    }
   ],
   "source": [
    "#matplotlib. pyplot is a collection of functions that make matplotlib work like MATLAB\n",
    "from matplotlib import pyplot as plt\n",
    "#Display a random image on a window\n",
    "plt.imshow(X_train[0])\n",
    "plt.show"
   ]
  },
  {
   "cell_type": "code",
   "execution_count": 6,
   "metadata": {},
   "outputs": [
    {
     "name": "stdout",
     "output_type": "stream",
     "text": [
      "[[0.         0.         0.         0.         0.         0.\n",
      "  0.         0.         0.         0.         0.         0.\n",
      "  0.         0.         0.         0.         0.         0.\n",
      "  0.         0.         0.         0.         0.         0.\n",
      "  0.         0.         0.         0.        ]\n",
      " [0.         0.         0.         0.         0.         0.\n",
      "  0.         0.         0.         0.         0.         0.\n",
      "  0.         0.         0.         0.         0.         0.\n",
      "  0.         0.         0.         0.         0.         0.\n",
      "  0.         0.         0.         0.        ]\n",
      " [0.         0.         0.         0.         0.         0.\n",
      "  0.         0.         0.         0.         0.         0.\n",
      "  0.         0.         0.         0.         0.         0.\n",
      "  0.         0.         0.         0.         0.         0.\n",
      "  0.         0.         0.         0.        ]\n",
      " [0.         0.         0.         0.         0.         0.\n",
      "  0.         0.         0.         0.         0.         0.\n",
      "  0.         0.         0.         0.         0.         0.\n",
      "  0.         0.         0.         0.         0.         0.\n",
      "  0.         0.         0.         0.        ]\n",
      " [0.         0.         0.         0.         0.         0.\n",
      "  0.         0.         0.         0.         0.         0.\n",
      "  0.         0.         0.         0.         0.         0.\n",
      "  0.         0.         0.         0.         0.         0.\n",
      "  0.         0.         0.         0.        ]\n",
      " [0.         0.         0.         0.         0.         0.\n",
      "  0.         0.         0.         0.         0.         0.\n",
      "  0.         0.         0.         0.         0.         0.\n",
      "  0.         0.         0.01568627 0.01568627 0.01568627 0.\n",
      "  0.         0.         0.         0.        ]\n",
      " [0.         0.         0.         0.         0.         0.\n",
      "  0.         0.         0.         0.         0.         0.\n",
      "  0.         0.         0.         0.00392157 0.07843137 0.1254902\n",
      "  0.14509804 0.2        0.44705882 0.49019608 0.44705882 0.17647059\n",
      "  0.01960784 0.         0.         0.        ]\n",
      " [0.         0.         0.         0.         0.         0.\n",
      "  0.         0.         0.         0.         0.         0.\n",
      "  0.         0.00784314 0.03529412 0.18431373 0.62352941 0.79215686\n",
      "  0.85098039 0.87058824 0.96078431 0.97647059 0.96078431 0.76078431\n",
      "  0.17647059 0.         0.         0.        ]\n",
      " [0.         0.         0.         0.         0.         0.\n",
      "  0.         0.         0.         0.         0.         0.00784314\n",
      "  0.04313725 0.30196078 0.54509804 0.81568627 0.96862745 0.99215686\n",
      "  0.99607843 0.98823529 0.98431373 0.99607843 0.99607843 0.96078431\n",
      "  0.45098039 0.01568627 0.         0.        ]\n",
      " [0.         0.         0.         0.         0.         0.\n",
      "  0.         0.         0.         0.         0.03137255 0.08235294\n",
      "  0.20392157 0.62352941 0.8627451  0.96470588 0.99607843 0.99607843\n",
      "  0.98823529 0.92941176 0.89019608 0.98039216 0.99607843 0.98039216\n",
      "  0.5372549  0.03137255 0.         0.        ]\n",
      " [0.         0.         0.         0.         0.         0.\n",
      "  0.         0.         0.00392157 0.12941176 0.49411765 0.66666667\n",
      "  0.8627451  0.96862745 0.99607843 0.99607843 0.96862745 0.91764706\n",
      "  0.80392157 0.77254902 0.70588235 0.94509804 0.99215686 0.98431373\n",
      "  0.62352941 0.0627451  0.         0.        ]\n",
      " [0.         0.         0.         0.         0.         0.\n",
      "  0.         0.00392157 0.1372549  0.63921569 0.95686275 0.98431373\n",
      "  0.99607843 0.99607843 0.96862745 0.86666667 0.70196078 0.55686275\n",
      "  0.72941176 0.96470588 0.98431373 0.99607843 0.99607843 0.98039216\n",
      "  0.50196078 0.01960784 0.         0.        ]\n",
      " [0.         0.         0.         0.         0.         0.\n",
      "  0.01176471 0.14117647 0.63921569 0.96078431 0.99607843 0.99607843\n",
      "  0.98823529 0.95294118 0.64313725 0.24313725 0.56078431 0.79215686\n",
      "  0.96862745 0.99607843 0.99607843 0.99607843 0.99607843 0.95294118\n",
      "  0.44313725 0.01568627 0.         0.        ]\n",
      " [0.         0.         0.         0.         0.00392157 0.12941176\n",
      "  0.30980392 0.68627451 0.96470588 0.99607843 0.99607843 0.98039216\n",
      "  0.7372549  0.45098039 0.14117647 0.31372549 0.8627451  0.96862745\n",
      "  0.99607843 0.99607843 1.         0.99607843 0.98823529 0.69411765\n",
      "  0.13333333 0.         0.         0.        ]\n",
      " [0.         0.         0.         0.         0.03921569 0.35686275\n",
      "  0.62352941 0.90980392 0.99215686 0.99607843 0.96078431 0.90196078\n",
      "  0.50196078 0.14117647 0.0627451  0.49803922 0.95686275 0.99215686\n",
      "  0.99607843 1.         1.         0.99607843 0.98039216 0.54509804\n",
      "  0.04313725 0.         0.         0.        ]\n",
      " [0.         0.         0.00392157 0.12941176 0.49803922 0.86666667\n",
      "  0.96470588 0.99607843 0.99215686 0.86666667 0.50196078 0.3254902\n",
      "  0.07843137 0.00392157 0.18039216 0.81568627 0.99607843 0.99607843\n",
      "  1.         1.         0.99607843 0.98431373 0.90980392 0.32156863\n",
      "  0.00784314 0.         0.         0.        ]\n",
      " [0.         0.         0.07843137 0.61960784 0.95686275 0.99607843\n",
      "  0.99607843 0.96862745 0.81176471 0.35686275 0.03921569 0.01176471\n",
      "  0.         0.01568627 0.44705882 0.96078431 0.99607843 0.99607843\n",
      "  1.         1.         0.99607843 0.90980392 0.67058824 0.08627451\n",
      "  0.         0.         0.         0.        ]\n",
      " [0.         0.         0.14117647 0.82745098 0.98431373 0.98039216\n",
      "  0.95294118 0.63921569 0.18431373 0.02745098 0.         0.\n",
      "  0.         0.01960784 0.50196078 0.98039216 0.99607843 1.\n",
      "  1.         0.99607843 0.98039216 0.66666667 0.3254902  0.01176471\n",
      "  0.         0.         0.         0.        ]\n",
      " [0.         0.         0.07058824 0.43137255 0.61960784 0.5372549\n",
      "  0.45098039 0.12941176 0.00392157 0.         0.         0.\n",
      "  0.         0.0627451  0.62352941 0.98431373 0.99607843 0.99607843\n",
      "  0.99607843 0.98039216 0.72941176 0.2627451  0.07843137 0.\n",
      "  0.         0.         0.         0.        ]\n",
      " [0.         0.         0.01960784 0.12941176 0.27058824 0.18823529\n",
      "  0.13333333 0.02745098 0.         0.         0.         0.\n",
      "  0.         0.0627451  0.61568627 0.98431373 0.99607843 0.99607843\n",
      "  0.98431373 0.90196078 0.49803922 0.08627451 0.01960784 0.\n",
      "  0.         0.         0.         0.        ]\n",
      " [0.         0.         0.         0.         0.00392157 0.\n",
      "  0.         0.         0.         0.         0.         0.\n",
      "  0.         0.01176471 0.30588235 0.80784314 0.95686275 0.95294118\n",
      "  0.68627451 0.3254902  0.07843137 0.         0.         0.\n",
      "  0.         0.         0.         0.        ]\n",
      " [0.         0.         0.         0.         0.         0.\n",
      "  0.         0.         0.         0.         0.         0.\n",
      "  0.         0.         0.02745098 0.18039216 0.43921569 0.43529412\n",
      "  0.13333333 0.01176471 0.         0.         0.         0.\n",
      "  0.         0.         0.         0.        ]\n",
      " [0.         0.         0.         0.         0.         0.\n",
      "  0.         0.         0.         0.         0.         0.\n",
      "  0.         0.         0.         0.         0.01176471 0.01176471\n",
      "  0.         0.         0.         0.         0.         0.\n",
      "  0.         0.         0.         0.        ]\n",
      " [0.         0.         0.         0.         0.         0.\n",
      "  0.         0.         0.         0.         0.         0.\n",
      "  0.         0.         0.         0.         0.         0.\n",
      "  0.         0.         0.         0.         0.         0.\n",
      "  0.         0.         0.         0.        ]\n",
      " [0.         0.         0.         0.         0.         0.\n",
      "  0.         0.         0.         0.         0.         0.\n",
      "  0.         0.         0.         0.         0.         0.\n",
      "  0.         0.         0.         0.         0.         0.\n",
      "  0.         0.         0.         0.        ]\n",
      " [0.         0.         0.         0.         0.         0.\n",
      "  0.         0.         0.         0.         0.         0.\n",
      "  0.         0.         0.         0.         0.         0.\n",
      "  0.         0.         0.         0.         0.         0.\n",
      "  0.         0.         0.         0.        ]\n",
      " [0.         0.         0.         0.         0.         0.\n",
      "  0.         0.         0.         0.         0.         0.\n",
      "  0.         0.         0.         0.         0.         0.\n",
      "  0.         0.         0.         0.         0.         0.\n",
      "  0.         0.         0.         0.        ]\n",
      " [0.         0.         0.         0.         0.         0.\n",
      "  0.         0.         0.         0.         0.         0.\n",
      "  0.         0.         0.         0.         0.         0.\n",
      "  0.         0.         0.         0.         0.         0.\n",
      "  0.         0.         0.         0.        ]]\n"
     ]
    }
   ],
   "source": [
    "#Y'all can see how an image array looks like. all float values b/w 0 and 1\n",
    "m = X_train[2]\n",
    "print(m)"
   ]
  },
  {
   "cell_type": "markdown",
   "metadata": {},
   "source": [
    "### Now we perform Image preprocessing. We reverse and rotate all train and test images"
   ]
  },
  {
   "cell_type": "code",
   "execution_count": 7,
   "metadata": {},
   "outputs": [
    {
     "data": {
      "text/plain": [
       "<function matplotlib.pyplot.show(close=None, block=None)>"
      ]
     },
     "execution_count": 7,
     "metadata": {},
     "output_type": "execute_result"
    },
    {
     "data": {
      "image/png": "[encoded data removed]",
      "text/plain": [
       "<Figure size 432x288 with 1 Axes>"
      ]
     },
     "metadata": {
      "needs_background": "light"
     },
     "output_type": "display_data"
    }
   ],
   "source": [
    "#for train data\n",
    "for t in range(697932):\n",
    "    X_train[t]=np.transpose(X_train[t])\n",
    "    \n",
    "#checking\n",
    "plt.imshow(X_train[0])\n",
    "plt.show"
   ]
  },
  {
   "cell_type": "code",
   "execution_count": 7,
   "metadata": {},
   "outputs": [
    {
     "name": "stdout",
     "output_type": "stream",
     "text": [
      "Process Complete: Rotated and reversed test and train images!\n"
     ]
    },
    {
     "data": {
      "image/png": "[encoded data removed]",
      "text/plain": [
       "<Figure size 432x288 with 1 Axes>"
      ]
     },
     "metadata": {
      "needs_background": "light"
     },
     "output_type": "display_data"
    }
   ],
   "source": [
    "\n",
    "\n",
    "#for test data  \n",
    "for t in range(116323):\n",
    "    X_test[t]=np.transpose(X_test[t])\n",
    "\n",
    "#checking\n",
    "plt.imshow(X_test[1])\n",
    "plt.show\n",
    "\n",
    "print('Process Complete: Rotated and reversed test and train images!')"
   ]
  },
  {
   "cell_type": "code",
   "execution_count": 9,
   "metadata": {},
   "outputs": [
    {
     "data": {
      "text/plain": [
       "<function matplotlib.pyplot.show(close=None, block=None)>"
      ]
     },
     "execution_count": 9,
     "metadata": {},
     "output_type": "execute_result"
    },
    {
     "data": {
      "image/png": "[encoded data removed]",
      "text/plain": [
       "<Figure size 432x288 with 1 Axes>"
      ]
     },
     "metadata": {
      "needs_background": "light"
     },
     "output_type": "display_data"
    }
   ],
   "source": [
    "#Checking the last train image\n",
    "m = X_train[697931]\n",
    "plt.imshow(m)\n",
    "plt.show"
   ]
  },
  {
   "cell_type": "markdown",
   "metadata": {},
   "source": [
    "### Reshaping train and test data again for input into model"
   ]
  },
  {
   "cell_type": "code",
   "execution_count": 10,
   "metadata": {},
   "outputs": [],
   "source": [
    "X_train = X_train.reshape(X_train.shape[0], 784,1)\n",
    "X_test = X_test.reshape(X_test.shape[0], 784,1)"
   ]
  },
  {
   "cell_type": "markdown",
   "metadata": {},
   "source": [
    "### Creation of model"
   ]
  },
  {
   "cell_type": "code",
   "execution_count": 11,
   "metadata": {},
   "outputs": [
    {
     "name": "stderr",
     "output_type": "stream",
     "text": [
      "Using TensorFlow backend.\n"
     ]
    },
    {
     "name": "stdout",
     "output_type": "stream",
     "text": [
      "WARNING:tensorflow:From C:\\Users\\user\\anaconda3\\lib\\site-packages\\keras\\backend\\tensorflow_backend.py:354: set_learning_phase (from tensorflow.python.keras.backend) is deprecated and will be removed after 2020-10-11.\n",
      "Instructions for updating:\n",
      "Simply pass a True/False value to the `training` argument of the `__call__` method of your layer or model.\n"
     ]
    }
   ],
   "source": [
    "#from keras.models import Sequential \n",
    "from tensorflow.keras import Sequential #A Sequential model is appropriate for a plain stack of layers where each layer has exactly one input tensor and one output tensor.\n",
    "from keras import optimizers #optimizers are used to change the attributes of your neural network such as weights and learning rate in order to reduce the losses.\n",
    "from tensorflow.keras.layers import Convolution2D, MaxPooling2D, Dropout, Flatten, Dense, Reshape, LSTM\n",
    "from keras import backend as K # runs the computation graph that we have created in the code, taking input from the first parameter and extracting the number of outputs as per the layers mentioned in the second parameter\n",
    "from keras.constraints import maxnorm\n",
    "\n",
    "def resh(ipar):\n",
    "    opar = []\n",
    "    for image in ipar:\n",
    "        opar.append(image.reshape(-1)) #it finds unknown dimension that the reshape() function calculates\n",
    "    return np.asarray(opar)\n",
    "\n",
    "from keras.utils import np_utils #converts array of labeled data into vector form \n",
    "\n",
    "train_images = X_train.astype('float32') # to change the dataype of given object\n",
    "test_images = X_test.astype('float32')\n",
    "\n",
    "train_images = resh(train_images)\n",
    "test_images = resh(test_images)\n",
    "\n",
    "\n",
    "train_labels = np_utils.to_categorical(y_train, 62)\n",
    "test_labels = np_utils.to_categorical(y_test, 62)\n",
    "\n",
    "\n",
    "K.set_learning_phase(1)\n",
    "\n",
    "model = Sequential()\n",
    "\n",
    "model.add(Reshape((28,28,1), input_shape=(784,)))\n",
    "\n",
    "#add the layer below for an accuracy\n",
    "model.add(Convolution2D(32, (5,5), input_shape=(28,28,1),\n",
    "                             activation='relu',padding='same',\n",
    "                             kernel_constraint=maxnorm(3)))\n",
    "model.add(Convolution2D(32, (5,5),activation='relu'))\n",
    "\n",
    "model.add(MaxPooling2D(pool_size=(2,2)))\n",
    "\n",
    "\n",
    " \n",
    "\n",
    "\n",
    "\n",
    "\n",
    "model.add(Flatten())\n",
    "\n",
    "\n",
    "\n",
    "\n",
    "#model.add(Dense(1024, activation='relu', kernel_constraint=maxnorm(3)))\n",
    "model.add(Dense(512, activation='relu', kernel_constraint=maxnorm(3))) #Dense Layer is used to classify image based on output from convolutional layers.\n",
    "#relu is a non linear function used to give a function output directly as positive otherwise as 0\n",
    "\n",
    "\n",
    "model.add(Dropout(0.5))\n",
    "\n",
    "model.add(Dense(62, activation='softmax'))# gives probabilty of the model\n",
    "\n",
    "#opt = optimizers.Adam(lr=0.001, beta_1=0.9, beta_2=0.999, epsilon=1e-8)\n",
    "#opt = optimizers.Adadelta()\n",
    "opt =tf.keras.optimizers.Adamax(lr=0.002, beta_1=0.9, beta_2=0.999, epsilon=None, decay=0.0)\n",
    "model.compile(loss='categorical_crossentropy', optimizer=opt, metrics=['accuracy']) #Used as a loss function for multi-class classification model where there are two or more output labels."
   ]
  },
  {
   "cell_type": "code",
   "execution_count": null,
   "metadata": {},
   "outputs": [],
   "source": []
  },
  {
   "cell_type": "markdown",
   "metadata": {},
   "source": [
    "### Training of model and evaluation"
   ]
  },
  {
   "cell_type": "code",
   "execution_count": 12,
   "metadata": {
    "scrolled": true
   },
   "outputs": [
    {
     "name": "stdout",
     "output_type": "stream",
     "text": [
      "Model: \"sequential\"\n",
      "_________________________________________________________________\n",
      "Layer (type)                 Output Shape              Param #   \n",
      "=================================================================\n",
      "reshape (Reshape)            (None, 28, 28, 1)         0         \n",
      "_________________________________________________________________\n",
      "conv2d (Conv2D)              (None, 28, 28, 32)        832       \n",
      "_________________________________________________________________\n",
      "conv2d_1 (Conv2D)            (None, 24, 24, 32)        25632     \n",
      "_________________________________________________________________\n",
      "max_pooling2d (MaxPooling2D) (None, 12, 12, 32)        0         \n",
      "_________________________________________________________________\n",
      "flatten (Flatten)            (None, 4608)              0         \n",
      "_________________________________________________________________\n",
      "dense (Dense)                (None, 512)               2359808   \n",
      "_________________________________________________________________\n",
      "dropout (Dropout)            (None, 512)               0         \n",
      "_________________________________________________________________\n",
      "dense_1 (Dense)              (None, 62)                31806     \n",
      "=================================================================\n",
      "Total params: 2,418,078\n",
      "Trainable params: 2,418,078\n",
      "Non-trainable params: 0\n",
      "_________________________________________________________________\n",
      "None\n",
      "Epoch 1/20\n",
      "5453/5453 [==============================] - 2509s 460ms/step - loss: 0.5515 - accuracy: 0.8184 - val_loss: 0.3864 - val_accuracy: 0.8599\n",
      "Epoch 2/20\n",
      "5453/5453 [==============================] - 2155s 395ms/step - loss: 0.4131 - accuracy: 0.8530 - val_loss: 0.3695 - val_accuracy: 0.8646\n",
      "Epoch 3/20\n",
      "5453/5453 [==============================] - 2086s 383ms/step - loss: 0.3859 - accuracy: 0.8598 - val_loss: 0.3554 - val_accuracy: 0.8678\n",
      "Epoch 4/20\n",
      "5453/5453 [==============================] - 2188s 401ms/step - loss: 0.3701 - accuracy: 0.8647 - val_loss: 0.3542 - val_accuracy: 0.8686\n",
      "Epoch 5/20\n",
      "5453/5453 [==============================] - 2185s 401ms/step - loss: 0.3581 - accuracy: 0.8673 - val_loss: 0.3502 - val_accuracy: 0.8699\n",
      "Epoch 6/20\n",
      "5453/5453 [==============================] - 2171s 398ms/step - loss: 0.3494 - accuracy: 0.8705 - val_loss: 0.3449 - val_accuracy: 0.8720\n",
      "Epoch 7/20\n",
      "5453/5453 [==============================] - 1984s 364ms/step - loss: 0.3413 - accuracy: 0.8727 - val_loss: 0.3444 - val_accuracy: 0.8725\n",
      "Epoch 8/20\n",
      "5453/5453 [==============================] - 2176s 399ms/step - loss: 0.3344 - accuracy: 0.8746 - val_loss: 0.3441 - val_accuracy: 0.8724\n",
      "Epoch 9/20\n",
      "5453/5453 [==============================] - 2228s 409ms/step - loss: 0.3278 - accuracy: 0.8764 - val_loss: 0.3445 - val_accuracy: 0.8723\n",
      "Epoch 10/20\n",
      "5453/5453 [==============================] - 2233s 410ms/step - loss: 0.3220 - accuracy: 0.8781 - val_loss: 0.3494 - val_accuracy: 0.8732\n",
      "Epoch 11/20\n",
      "5453/5453 [==============================] - 2335s 428ms/step - loss: 0.3163 - accuracy: 0.8801 - val_loss: 0.3459 - val_accuracy: 0.8730\n",
      "Epoch 12/20\n",
      "5453/5453 [==============================] - 2355s 432ms/step - loss: 0.3109 - accuracy: 0.8817 - val_loss: 0.3525 - val_accuracy: 0.8733\n",
      "Epoch 13/20\n",
      "5453/5453 [==============================] - 2322s 426ms/step - loss: 0.3064 - accuracy: 0.8835 - val_loss: 0.3495 - val_accuracy: 0.8723\n",
      "Epoch 14/20\n",
      "5453/5453 [==============================] - 2144s 393ms/step - loss: 0.3018 - accuracy: 0.8849 - val_loss: 0.3492 - val_accuracy: 0.8730\n",
      "Epoch 15/20\n",
      "5453/5453 [==============================] - 2043s 375ms/step - loss: 0.2969 - accuracy: 0.8864 - val_loss: 0.3494 - val_accuracy: 0.8739\n",
      "Epoch 16/20\n",
      "5453/5453 [==============================] - 1929s 354ms/step - loss: 0.2930 - accuracy: 0.8876 - val_loss: 0.3521 - val_accuracy: 0.8728\n",
      "Epoch 17/20\n",
      "5453/5453 [==============================] - 1899s 348ms/step - loss: 0.2894 - accuracy: 0.8892 - val_loss: 0.3543 - val_accuracy: 0.8722\n",
      "Epoch 18/20\n",
      "5453/5453 [==============================] - 1888s 346ms/step - loss: 0.2855 - accuracy: 0.8903 - val_loss: 0.3688 - val_accuracy: 0.8712\n",
      "Epoch 19/20\n",
      "5453/5453 [==============================] - 1885s 346ms/step - loss: 0.2820 - accuracy: 0.8916 - val_loss: 0.3652 - val_accuracy: 0.8717\n",
      "Epoch 20/20\n",
      "5453/5453 [==============================] - 2286s 419ms/step - loss: 0.2790 - accuracy: 0.8925 - val_loss: 0.3651 - val_accuracy: 0.8712\n"
     ]
    }
   ],
   "source": [
    "print(model.summary())\n",
    "history = model.fit(train_images,train_labels,validation_data=(test_images, test_labels), batch_size=128, epochs=20)"
   ]
  },
  {
   "cell_type": "code",
   "execution_count": 13,
   "metadata": {},
   "outputs": [
    {
     "name": "stdout",
     "output_type": "stream",
     "text": [
      "Accuracy: 87.12%\n"
     ]
    }
   ],
   "source": [
    "#evaluating model on test data. will take time\n",
    "scores = model.evaluate(test_images,test_labels, verbose = 0)\n",
    "print(\"Accuracy: %.2f%%\"%(scores[1]*100))"
   ]
  },
  {
   "cell_type": "code",
   "execution_count": null,
   "metadata": {},
   "outputs": [],
   "source": []
  },
  {
   "cell_type": "markdown",
   "metadata": {},
   "source": [
    "## Creating model history graphs"
   ]
  },
  {
   "cell_type": "code",
   "execution_count": 14,
   "metadata": {},
   "outputs": [
    {
     "name": "stdout",
     "output_type": "stream",
     "text": [
      "dict_keys(['loss', 'accuracy', 'val_loss', 'val_accuracy'])\n"
     ]
    },
    {
     "data": {
      "image/png": "[encoded data removed]",
      "text/plain": [
       "<Figure size 432x288 with 1 Axes>"
      ]
     },
     "metadata": {
      "needs_background": "light"
     },
     "output_type": "display_data"
    },
    {
     "data": {
      "image/png": "[encoded data removed]",
      "text/plain": [
       "<Figure size 432x288 with 1 Axes>"
      ]
     },
     "metadata": {
      "needs_background": "light"
     },
     "output_type": "display_data"
    }
   ],
   "source": [
    "print(history.history.keys())\n",
    "# summarize history for accuracy\n",
    "plt.plot(history.history['accuracy'])\n",
    "plt.plot(history.history['val_accuracy'])\n",
    "plt.title('Model Accuracy')\n",
    "plt.ylabel('Accuracy')\n",
    "plt.xlabel('Epoch')\n",
    "plt.legend(['Train', 'Test'], loc='upper left')\n",
    "plt.grid()\n",
    "plt.show()\n",
    "# summarize history for loss\n",
    "plt.plot(history.history['loss'])\n",
    "plt.plot(history.history['val_loss'])\n",
    "plt.title('Model loss')\n",
    "plt.ylabel('Loss')\n",
    "plt.xlabel('Epoch')\n",
    "plt.legend(['Train', 'Test'], loc='upper left')\n",
    "plt.grid()\n",
    "plt.show()"
   ]
  },
  {
   "cell_type": "code",
   "execution_count": 15,
   "metadata": {},
   "outputs": [
    {
     "data": {
      "image/png": "[encoded data removed]",
      "text/plain": [
       "<Figure size 432x288 with 1 Axes>"
      ]
     },
     "metadata": {
      "needs_background": "light"
     },
     "output_type": "display_data"
    }
   ],
   "source": [
    "objects = ('RMSDrop', 'Adam', 'Adamax', 'SGD', 'Adadelta')\n",
    "y_pos = np.arange(len(objects))\n",
    "performance = [86.2,85.39,89.53,84.29,87.11]\n",
    " \n",
    "plt.bar(y_pos, performance, align='center', alpha=0.5)\n",
    "plt.xticks(y_pos, objects)\n",
    "plt.ylabel('Accuracy')\n",
    "plt.title('Optimizers')\n",
    "plt.ylim(50,100)\n",
    "plt.show()"
   ]
  },
  {
   "cell_type": "markdown",
   "metadata": {},
   "source": []
  },
  {
   "cell_type": "markdown",
   "metadata": {},
   "source": [
    "## Predicting a single image using the model"
   ]
  },
  {
   "cell_type": "code",
   "execution_count": 16,
   "metadata": {},
   "outputs": [
    {
     "name": "stdout",
     "output_type": "stream",
     "text": [
      "WARNING:tensorflow:From <ipython-input-16-3a9361d3b812>:4: Sequential.predict_classes (from tensorflow.python.keras.engine.sequential) is deprecated and will be removed after 2021-01-01.\n",
      "Instructions for updating:\n",
      "Please use instead:* `np.argmax(model.predict(x), axis=-1)`,   if your model does multi-class classification   (e.g. if it uses a `softmax` last-layer activation).* `(model.predict(x) > 0.5).astype(\"int32\")`,   if your model does binary classification   (e.g. if it uses a `sigmoid` last-layer activation).\n",
      "prediction: [7]\n"
     ]
    },
    {
     "data": {
      "image/png": "[encoded data removed]",
      "text/plain": [
       "<Figure size 432x288 with 1 Axes>"
      ]
     },
     "metadata": {
      "needs_background": "light"
     },
     "output_type": "display_data"
    }
   ],
   "source": [
    "m = X_test[258].reshape(28,28)\n",
    "plt.imshow(m)\n",
    "plt.show\n",
    "print('prediction: '+str(model.predict_classes(X_test[258].reshape(1,784))))"
   ]
  },
  {
   "cell_type": "markdown",
   "metadata": {},
   "source": [
    "## Saving the model"
   ]
  },
  {
   "cell_type": "code",
   "execution_count": 17,
   "metadata": {},
   "outputs": [],
   "source": [
    "from keras.models import load_model\n",
    "from keras.models import model_from_json\n",
    "\n",
    "model_json = model.to_json()\n",
    "with open(\"model.json\", \"w\") as json_file:\n",
    "    json_file.write(model_json)\n",
    "#saves the model info as json file\n",
    "    \n",
    "model.save_weights(\"model.h5\")\n",
    "# Creates a HDF5 file 'model.h5'"
   ]
  },
  {
   "cell_type": "markdown",
   "metadata": {},
   "source": [
    "# For usage of this model to predict words, open segment.ipynb"
   ]
  }
 ],
 "metadata": {
  "kernelspec": {
   "display_name": "Python 3",
   "language": "python",
   "name": "python3"
  },
  "language_info": {
   "codemirror_mode": {
    "name": "ipython",
    "version": 3
   },
   "file_extension": ".py",
   "mimetype": "text/x-python",
   "name": "python",
   "nbconvert_exporter": "python",
   "pygments_lexer": "ipython3",
   "version": "3.8.8"
  }
 },
 "nbformat": 4,
 "nbformat_minor": 2
}
